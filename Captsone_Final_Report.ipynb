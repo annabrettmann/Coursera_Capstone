{
    "cells": [
        {
            "cell_type": "markdown",
            "metadata": {
                "collapsed": true
            },
            "source": "## Final Report"
        },
        {
            "cell_type": "markdown",
            "metadata": {},
            "source": "# Introduction and Business Problem\n\nHoboken, NJ is a busy place and can be overwhelming for people who are either new the city or just visiting. For visitors, you have a limited amount of time and money to get the best experience out of the city. In order to get the best experience, visitors should figure out where their money will be best spent. So the question becomes, how can you know what the best restaurants are? For this project, I will create a simplistic guide to eating out in Hoboken using data retreived from Foursquare such as likes, restaurant category and location. Once these restaurants are clustered, it will be easy for visitors to determine the best investement of their money so as to gain the best personalized experience in Hoboken.\n\n# Data Requirements\n\nThe required data to complete this project includes venue names, IDs, location, categories, and number of likes. To aquire the above mentioned data, I will need to us the geolocator for latitudes and longitudes for Hoboken venues and use the Foursquare API to retrieve a list of venues with their cooresponding attributes. Once the above data has been gathered and sorted, I will create a k-means clusteering algorithm to group the restaurants. This will allow visitors to easily see which restaurants are the best to eat at and what kind of cuisine is available.\n\n# Methodology\n\nMy thought process is that the more likes a restaurant has the better the restaurant is. Using the Foursquare API, I will be able to gather data related to restaurants in Hoboken as well as their attributes such as type of cuisine and the number of likes it has. Using the geolocator, I will be able to gather the latitudes and longitudes of each of the restaurants. This data will be established as a single database which will be used to bin the restaurants categorically.\n\nI will e creating new categorical variables for the restaurants (i.e bar, italian, etc.) so that they can be grouped by type of cuisine. This will allow visitors who have specific interest in certain types of restaurants to look at only those kind. \n\nThe gathered data will be taken and sorted into groups using a k-means clustering algorithm. \n\n# Results\n\nI was able sort the data into four clusters:\n\nCluster one is characterized by poor quality food. These restaurants had the least number of likes according to Foursquare. These restaurants tended to be Italian or Asian in type.\n\nCluster 2 is characterized by below average quality food. The likes for these restaurants ranged between 28 and 45. Again, this food tended to be Euro/Asian in type.\n\nCluster 3 is characterized by highest quality food, likes ranging etween 81 and 268. This cluster has a large number of Mexican and Southern Restaurants.\n\nCluster 4 is characterized by an above average quality of food, the likes range from 48 to 76. A large number of the restaurants in this cluster are categorized as bars. \n\n# Discussion\n\nWhile the results of this analysis would help a visitor decide which restaurants in Hoboken are worth the investment, the analysis is limited because of the number of categories. This analysis would be benefited if the clusters could include a component of customer ratings from other websites or reviews from critics. \n\n\n# Conclusion\n\nPeople visiting Hoboken, NJ will have an easier time deciding which where to invest their money. This analysis has been able to show which restaurants have the highest ratings which coorelates with best experiences. It will also help people who like specific kinds of cuisine to determine which restaurant will be the best investment. It may seem small, but the perception of the city will be bettered when visitors have better experiences with restaura"
        }
    ],
    "metadata": {
        "kernelspec": {
            "display_name": "Python 3.6",
            "language": "python",
            "name": "python3"
        },
        "language_info": {
            "codemirror_mode": {
                "name": "ipython",
                "version": 3
            },
            "file_extension": ".py",
            "mimetype": "text/x-python",
            "name": "python",
            "nbconvert_exporter": "python",
            "pygments_lexer": "ipython3",
            "version": "3.6.9"
        }
    },
    "nbformat": 4,
    "nbformat_minor": 1
}